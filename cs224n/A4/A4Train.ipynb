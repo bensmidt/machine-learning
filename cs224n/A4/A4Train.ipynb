{
  "cells": [
    {
      "cell_type": "markdown",
      "metadata": {
        "id": "qbWb5SKDF11W"
      },
      "source": [
        "# Setup"
      ]
    },
    {
      "cell_type": "code",
      "execution_count": 1,
      "metadata": {
        "id": "kliAK6e7Dj4h"
      },
      "outputs": [],
      "source": [
        "%load_ext autoreload\n",
        "%autoreload 2"
      ]
    },
    {
      "cell_type": "code",
      "execution_count": 2,
      "metadata": {
        "colab": {
          "base_uri": "https://localhost:8080/"
        },
        "id": "9Zm_Q-0ZDo9L",
        "outputId": "b0f2e566-71ff-4cb7-d4ac-d1b4993ae633"
      },
      "outputs": [
        {
          "name": "stdout",
          "output_type": "stream",
          "text": [
            "Mounted at /content/drive\n"
          ]
        }
      ],
      "source": [
        "from google.colab import drive\n",
        "drive.mount('/content/drive', force_remount=True)"
      ]
    },
    {
      "cell_type": "code",
      "execution_count": 3,
      "metadata": {
        "colab": {
          "base_uri": "https://localhost:8080/"
        },
        "id": "7d2OBg-uDt40",
        "outputId": "5bf4a1a0-b546-41fe-8861-ea95bb5b82d6"
      },
      "outputs": [
        {
          "name": "stdout",
          "output_type": "stream",
          "text": [
            "drive/My Drive/A4\n",
            "['gpu_requirements.txt', 'run.bat', 'vocab.py', '__init__.py', 'collect_submission.bat', 'A4-Instructions.pdf', 'collect_submission.sh', 'run.sh', 'run.py', 'README.md', 'utils.py', 'local_env.yml', 'model_embeddings.py', 'sanity_check.py', 'nmt_model.py', 'sanity_check_en_es_data', 'outputs', '__pycache__', 'A4-Latex', 'chr_en_data', 'src.model', 'src.vocab', 'tgt.model', 'tgt.vocab', 'vocab.json', 'model.bin', 'model.bin.optim', 'A4Train.ipynb']\n"
          ]
        }
      ],
      "source": [
        "import os\n",
        "GOOGLE_DRIVE_PATH = os.path.join('drive', 'My Drive', 'A4')\n",
        "print(GOOGLE_DRIVE_PATH)\n",
        "print(os.listdir(GOOGLE_DRIVE_PATH))"
      ]
    },
    {
      "cell_type": "code",
      "execution_count": 4,
      "metadata": {
        "id": "rtEfUl2rEl12"
      },
      "outputs": [],
      "source": [
        "import sys\n",
        "sys.path.append(GOOGLE_DRIVE_PATH)\n",
        "\n",
        "import time, os\n",
        "os.environ[\"TZ\"] = \"US/Central\"\n",
        "time.tzset()"
      ]
    },
    {
      "cell_type": "code",
      "execution_count": 5,
      "metadata": {
        "id": "Z39cmpA3HHYk"
      },
      "outputs": [],
      "source": [
        "import torch"
      ]
    },
    {
      "cell_type": "code",
      "execution_count": 6,
      "metadata": {
        "colab": {
          "base_uri": "https://localhost:8080/"
        },
        "id": "RGWniSYSHJLm",
        "outputId": "b73294df-faa9-4f06-9c9b-abbe8e463896"
      },
      "outputs": [
        {
          "name": "stdout",
          "output_type": "stream",
          "text": [
            "Good to go!\n"
          ]
        }
      ],
      "source": [
        "if torch.cuda.is_available:\n",
        "  device = 'cuda'\n",
        "  print('Good to go!')\n",
        "else:\n",
        "  print('Please set GPU via Edit -> Notebook Settings.')"
      ]
    },
    {
      "cell_type": "markdown",
      "metadata": {
        "id": "JBx7iKv8qpGl"
      },
      "source": [
        "Import Packages"
      ]
    },
    {
      "cell_type": "markdown",
      "metadata": {
        "id": "9YOb68JPqtJC"
      },
      "source": [
        "# Import Packages"
      ]
    },
    {
      "cell_type": "code",
      "execution_count": 7,
      "metadata": {
        "colab": {
          "base_uri": "https://localhost:8080/"
        },
        "id": "n8CMuoTVsFHv",
        "outputId": "0052f902-9ac4-4f93-edcf-77bbf1c24f39"
      },
      "outputs": [
        {
          "name": "stdout",
          "output_type": "stream",
          "text": [
            "Looking in indexes: https://pypi.org/simple, https://us-python.pkg.dev/colab-wheels/public/simple/\n",
            "Collecting docopt\n",
            "  Downloading docopt-0.6.2.tar.gz (25 kB)\n",
            "Building wheels for collected packages: docopt\n",
            "  Building wheel for docopt (setup.py) ... \u001b[?25l\u001b[?25hdone\n",
            "  Created wheel for docopt: filename=docopt-0.6.2-py2.py3-none-any.whl size=13723 sha256=1e554500fe57b6bec693dffc5f0533d2be2df595a7aac5c5b0db86ceba9c721b\n",
            "  Stored in directory: /root/.cache/pip/wheels/72/b0/3f/1d95f96ff986c7dfffe46ce2be4062f38ebd04b506c77c81b9\n",
            "Successfully built docopt\n",
            "Installing collected packages: docopt\n",
            "Successfully installed docopt-0.6.2\n",
            "Looking in indexes: https://pypi.org/simple, https://us-python.pkg.dev/colab-wheels/public/simple/\n",
            "Requirement already satisfied: torch in /usr/local/lib/python3.7/dist-packages (1.12.1+cu113)\n",
            "Requirement already satisfied: typing-extensions in /usr/local/lib/python3.7/dist-packages (from torch) (4.1.1)\n",
            "Looking in indexes: https://pypi.org/simple, https://us-python.pkg.dev/colab-wheels/public/simple/\n",
            "Collecting sentencepiece\n",
            "  Downloading sentencepiece-0.1.97-cp37-cp37m-manylinux_2_17_x86_64.manylinux2014_x86_64.whl (1.3 MB)\n",
            "\u001b[K     |████████████████████████████████| 1.3 MB 34.7 MB/s \n",
            "\u001b[?25hInstalling collected packages: sentencepiece\n",
            "Successfully installed sentencepiece-0.1.97\n",
            "Looking in indexes: https://pypi.org/simple, https://us-python.pkg.dev/colab-wheels/public/simple/\n",
            "Collecting sacrebleu\n",
            "  Downloading sacrebleu-2.3.1-py3-none-any.whl (118 kB)\n",
            "\u001b[K     |████████████████████████████████| 118 kB 34.0 MB/s \n",
            "\u001b[?25hCollecting colorama\n",
            "  Downloading colorama-0.4.6-py2.py3-none-any.whl (25 kB)\n",
            "Requirement already satisfied: regex in /usr/local/lib/python3.7/dist-packages (from sacrebleu) (2022.6.2)\n",
            "Requirement already satisfied: tabulate>=0.8.9 in /usr/local/lib/python3.7/dist-packages (from sacrebleu) (0.8.10)\n",
            "Requirement already satisfied: numpy>=1.17 in /usr/local/lib/python3.7/dist-packages (from sacrebleu) (1.21.6)\n",
            "Requirement already satisfied: lxml in /usr/local/lib/python3.7/dist-packages (from sacrebleu) (4.9.1)\n",
            "Collecting portalocker\n",
            "  Downloading portalocker-2.6.0-py2.py3-none-any.whl (15 kB)\n",
            "Installing collected packages: portalocker, colorama, sacrebleu\n",
            "Successfully installed colorama-0.4.6 portalocker-2.6.0 sacrebleu-2.3.1\n"
          ]
        }
      ],
      "source": [
        "!pip install docopt\n",
        "!pip install torch\n",
        "!pip install sentencepiece\n",
        "!pip install sacrebleu"
      ]
    },
    {
      "cell_type": "code",
      "execution_count": 8,
      "metadata": {
        "id": "9xNX5FdCqxT5"
      },
      "outputs": [],
      "source": [
        "import numpy\n",
        "import scipy\n",
        "import tqdm\n",
        "import docopt\n",
        "import torch\n",
        "import nltk\n",
        "import torchvision\n",
        "import sentencepiece\n",
        "import sacrebleu"
      ]
    },
    {
      "cell_type": "markdown",
      "metadata": {
        "id": "QvxRIlRlsa9X"
      },
      "source": [
        "# Train"
      ]
    },
    {
      "cell_type": "code",
      "execution_count": 11,
      "metadata": {
        "colab": {
          "base_uri": "https://localhost:8080/"
        },
        "id": "F4DSt8NStfZ6",
        "outputId": "625c098f-d419-43f7-bac4-0d4af35b6655"
      },
      "outputs": [
        {
          "name": "stdout",
          "output_type": "stream",
          "text": [
            "/content/drive/MyDrive/A4\n",
            "/content/drive/MyDrive/A4\n"
          ]
        }
      ],
      "source": [
        "%cd drive/MyDrive/A4/\n",
        "!pwd"
      ]
    },
    {
      "cell_type": "code",
      "execution_count": 12,
      "metadata": {
        "colab": {
          "base_uri": "https://localhost:8080/"
        },
        "id": "BrlI22VbsjVd",
        "outputId": "30155c8e-2063-4dbc-ff20-730afd33333d"
      },
      "outputs": [
        {
          "name": "stdout",
          "output_type": "stream",
          "text": [
            "[nltk_data] Downloading package punkt to /root/nltk_data...\n",
            "[nltk_data]   Unzipping tokenizers/punkt.zip.\n",
            "read in source sentences: ./chr_en_data/train.chr\n",
            "read in target sentences: ./chr_en_data/train.en\n",
            "sentencepiece_trainer.cc(77) LOG(INFO) Starts training with : \n",
            "trainer_spec {\n",
            "  input: ./chr_en_data/train.chr\n",
            "  input_format: \n",
            "  model_prefix: src\n",
            "  model_type: UNIGRAM\n",
            "  vocab_size: 21000\n",
            "  self_test_sample_size: 0\n",
            "  character_coverage: 0.9995\n",
            "  input_sentence_size: 0\n",
            "  shuffle_input_sentence: 1\n",
            "  seed_sentencepiece_size: 1000000\n",
            "  shrinking_factor: 0.75\n",
            "  max_sentence_length: 4192\n",
            "  num_threads: 16\n",
            "  num_sub_iterations: 2\n",
            "  max_sentencepiece_length: 16\n",
            "  split_by_unicode_script: 1\n",
            "  split_by_number: 1\n",
            "  split_by_whitespace: 1\n",
            "  split_digits: 0\n",
            "  treat_whitespace_as_suffix: 0\n",
            "  allow_whitespace_only_pieces: 0\n",
            "  required_chars: \n",
            "  byte_fallback: 0\n",
            "  vocabulary_output_piece_score: 1\n",
            "  train_extremely_large_corpus: 0\n",
            "  hard_vocab_limit: 1\n",
            "  use_all_vocab: 0\n",
            "  unk_id: 0\n",
            "  bos_id: 1\n",
            "  eos_id: 2\n",
            "  pad_id: -1\n",
            "  unk_piece: <unk>\n",
            "  bos_piece: <s>\n",
            "  eos_piece: </s>\n",
            "  pad_piece: <pad>\n",
            "  unk_surface:  ⁇ \n",
            "  enable_differential_privacy: 0\n",
            "  differential_privacy_noise_level: 0\n",
            "  differential_privacy_clipping_threshold: 0\n",
            "}\n",
            "normalizer_spec {\n",
            "  name: nmt_nfkc\n",
            "  add_dummy_prefix: 1\n",
            "  remove_extra_whitespaces: 1\n",
            "  escape_whitespaces: 1\n",
            "  normalization_rule_tsv: \n",
            "}\n",
            "denormalizer_spec {}\n",
            "trainer_interface.cc(350) LOG(INFO) SentenceIterator is not specified. Using MultiFileSentenceIterator.\n",
            "trainer_interface.cc(181) LOG(INFO) Loading corpus: ./chr_en_data/train.chr\n",
            "trainer_interface.cc(406) LOG(INFO) Loaded all 14855 sentences\n",
            "trainer_interface.cc(422) LOG(INFO) Adding meta_piece: <unk>\n",
            "trainer_interface.cc(422) LOG(INFO) Adding meta_piece: <s>\n",
            "trainer_interface.cc(422) LOG(INFO) Adding meta_piece: </s>\n",
            "trainer_interface.cc(427) LOG(INFO) Normalizing sentences...\n",
            "trainer_interface.cc(536) LOG(INFO) all chars count=985616\n",
            "trainer_interface.cc(547) LOG(INFO) Done: 99.9511% characters are covered.\n",
            "trainer_interface.cc(557) LOG(INFO) Alphabet size=115\n",
            "trainer_interface.cc(558) LOG(INFO) Final character coverage=0.999511\n",
            "trainer_interface.cc(590) LOG(INFO) Done! preprocessed 14855 sentences.\n",
            "unigram_model_trainer.cc(146) LOG(INFO) Making suffix array...\n",
            "unigram_model_trainer.cc(150) LOG(INFO) Extracting frequent sub strings...\n",
            "unigram_model_trainer.cc(201) LOG(INFO) Initialized 68377 seed sentencepieces\n",
            "trainer_interface.cc(596) LOG(INFO) Tokenizing input sentences with whitespace: 14855\n",
            "trainer_interface.cc(607) LOG(INFO) Done! 51286\n",
            "unigram_model_trainer.cc(491) LOG(INFO) Using 51286 sentences for EM training\n",
            "unigram_model_trainer.cc(507) LOG(INFO) EM sub_iter=0 size=30248 obj=13.1327 num_tokens=111575 num_tokens/piece=3.68867\n",
            "unigram_model_trainer.cc(507) LOG(INFO) EM sub_iter=1 size=27152 obj=11.2574 num_tokens=111787 num_tokens/piece=4.11708\n",
            "unigram_model_trainer.cc(507) LOG(INFO) EM sub_iter=0 size=23072 obj=11.2492 num_tokens=114636 num_tokens/piece=4.96862\n",
            "unigram_model_trainer.cc(507) LOG(INFO) EM sub_iter=1 size=22929 obj=11.2127 num_tokens=114710 num_tokens/piece=5.00283\n",
            "trainer_interface.cc(685) LOG(INFO) Saving model: src.model\n",
            "trainer_interface.cc(697) LOG(INFO) Saving vocabs: src.vocab\n",
            "sentencepiece_trainer.cc(77) LOG(INFO) Starts training with : \n",
            "trainer_spec {\n",
            "  input: ./chr_en_data/train.en\n",
            "  input_format: \n",
            "  model_prefix: tgt\n",
            "  model_type: UNIGRAM\n",
            "  vocab_size: 8000\n",
            "  self_test_sample_size: 0\n",
            "  character_coverage: 0.9995\n",
            "  input_sentence_size: 0\n",
            "  shuffle_input_sentence: 1\n",
            "  seed_sentencepiece_size: 1000000\n",
            "  shrinking_factor: 0.75\n",
            "  max_sentence_length: 4192\n",
            "  num_threads: 16\n",
            "  num_sub_iterations: 2\n",
            "  max_sentencepiece_length: 16\n",
            "  split_by_unicode_script: 1\n",
            "  split_by_number: 1\n",
            "  split_by_whitespace: 1\n",
            "  split_digits: 0\n",
            "  treat_whitespace_as_suffix: 0\n",
            "  allow_whitespace_only_pieces: 0\n",
            "  required_chars: \n",
            "  byte_fallback: 0\n",
            "  vocabulary_output_piece_score: 1\n",
            "  train_extremely_large_corpus: 0\n",
            "  hard_vocab_limit: 1\n",
            "  use_all_vocab: 0\n",
            "  unk_id: 0\n",
            "  bos_id: 1\n",
            "  eos_id: 2\n",
            "  pad_id: -1\n",
            "  unk_piece: <unk>\n",
            "  bos_piece: <s>\n",
            "  eos_piece: </s>\n",
            "  pad_piece: <pad>\n",
            "  unk_surface:  ⁇ \n",
            "  enable_differential_privacy: 0\n",
            "  differential_privacy_noise_level: 0\n",
            "  differential_privacy_clipping_threshold: 0\n",
            "}\n",
            "normalizer_spec {\n",
            "  name: nmt_nfkc\n",
            "  add_dummy_prefix: 1\n",
            "  remove_extra_whitespaces: 1\n",
            "  escape_whitespaces: 1\n",
            "  normalization_rule_tsv: \n",
            "}\n",
            "denormalizer_spec {}\n",
            "trainer_interface.cc(350) LOG(INFO) SentenceIterator is not specified. Using MultiFileSentenceIterator.\n",
            "trainer_interface.cc(181) LOG(INFO) Loading corpus: ./chr_en_data/train.en\n",
            "trainer_interface.cc(406) LOG(INFO) Loaded all 14855 sentences\n",
            "trainer_interface.cc(422) LOG(INFO) Adding meta_piece: <unk>\n",
            "trainer_interface.cc(422) LOG(INFO) Adding meta_piece: <s>\n",
            "trainer_interface.cc(422) LOG(INFO) Adding meta_piece: </s>\n",
            "trainer_interface.cc(427) LOG(INFO) Normalizing sentences...\n",
            "trainer_interface.cc(536) LOG(INFO) all chars count=1574206\n",
            "trainer_interface.cc(547) LOG(INFO) Done: 99.9535% characters are covered.\n",
            "trainer_interface.cc(557) LOG(INFO) Alphabet size=61\n",
            "trainer_interface.cc(558) LOG(INFO) Final character coverage=0.999535\n",
            "trainer_interface.cc(590) LOG(INFO) Done! preprocessed 14855 sentences.\n",
            "unigram_model_trainer.cc(146) LOG(INFO) Making suffix array...\n",
            "unigram_model_trainer.cc(150) LOG(INFO) Extracting frequent sub strings...\n",
            "unigram_model_trainer.cc(201) LOG(INFO) Initialized 34247 seed sentencepieces\n",
            "trainer_interface.cc(596) LOG(INFO) Tokenizing input sentences with whitespace: 14855\n",
            "trainer_interface.cc(607) LOG(INFO) Done! 23391\n",
            "unigram_model_trainer.cc(491) LOG(INFO) Using 23391 sentences for EM training\n",
            "unigram_model_trainer.cc(507) LOG(INFO) EM sub_iter=0 size=12331 obj=9.86555 num_tokens=46325 num_tokens/piece=3.75679\n",
            "unigram_model_trainer.cc(507) LOG(INFO) EM sub_iter=1 size=10251 obj=7.84065 num_tokens=46467 num_tokens/piece=4.53292\n",
            "unigram_model_trainer.cc(507) LOG(INFO) EM sub_iter=0 size=8796 obj=7.7791 num_tokens=47496 num_tokens/piece=5.39973\n",
            "unigram_model_trainer.cc(507) LOG(INFO) EM sub_iter=1 size=8785 obj=7.76306 num_tokens=47512 num_tokens/piece=5.40831\n",
            "trainer_interface.cc(685) LOG(INFO) Saving model: tgt.model\n",
            "trainer_interface.cc(697) LOG(INFO) Saving vocabs: tgt.vocab\n",
            "initialize source vocabulary ..\n",
            "initialize target vocabulary ..\n",
            "generated vocabulary, source 21000 words, target 8000 words\n",
            "vocabulary saved to vocab.json\n"
          ]
        }
      ],
      "source": [
        "!sh run.sh vocab"
      ]
    },
    {
      "cell_type": "code",
      "execution_count": null,
      "metadata": {
        "colab": {
          "base_uri": "https://localhost:8080/"
        },
        "id": "P7FlWWd8wEtc",
        "outputId": "951c19c5-cbe5-4fc7-e399-d042bdb3f696"
      },
      "outputs": [
        {
          "name": "stdout",
          "output_type": "stream",
          "text": [
            "[nltk_data] Downloading package punkt to /root/nltk_data...\n",
            "[nltk_data]   Package punkt is already up-to-date!\n",
            "uniformly initialize parameters [-0.100000, +0.100000]\n",
            "use device: cuda:0\n",
            "begin Maximum Likelihood training\n",
            "epoch 1, iter 10, avg. loss 207.10, avg. ppl 3169.90 cum. examples 320, speed 2371.29 words/sec, time elapsed 3.47 sec\n",
            "epoch 1, iter 20, avg. loss 177.16, avg. ppl 746.30 cum. examples 640, speed 3305.55 words/sec, time elapsed 6.06 sec\n",
            "epoch 1, iter 30, avg. loss 164.71, avg. ppl 538.64 cum. examples 960, speed 3151.05 words/sec, time elapsed 8.72 sec\n",
            "epoch 1, iter 40, avg. loss 170.50, avg. ppl 473.89 cum. examples 1280, speed 3059.45 words/sec, time elapsed 11.61 sec\n",
            "epoch 1, iter 50, avg. loss 161.86, avg. ppl 367.68 cum. examples 1600, speed 3498.50 words/sec, time elapsed 14.12 sec\n",
            "epoch 1, iter 60, avg. loss 153.79, avg. ppl 348.32 cum. examples 1920, speed 3459.28 words/sec, time elapsed 16.55 sec\n",
            "epoch 1, iter 70, avg. loss 153.27, avg. ppl 299.19 cum. examples 2240, speed 3099.94 words/sec, time elapsed 19.33 sec\n",
            "epoch 1, iter 80, avg. loss 151.22, avg. ppl 302.46 cum. examples 2560, speed 3133.16 words/sec, time elapsed 22.03 sec\n",
            "epoch 1, iter 90, avg. loss 143.94, avg. ppl 265.16 cum. examples 2880, speed 3012.78 words/sec, time elapsed 24.77 sec\n",
            "epoch 1, iter 100, avg. loss 142.74, avg. ppl 222.18 cum. examples 3200, speed 3386.74 words/sec, time elapsed 27.27 sec\n",
            "epoch 1, iter 110, avg. loss 139.66, avg. ppl 223.18 cum. examples 3520, speed 3217.95 words/sec, time elapsed 29.83 sec\n",
            "epoch 1, iter 120, avg. loss 129.56, avg. ppl 193.93 cum. examples 3840, speed 3370.57 words/sec, time elapsed 32.17 sec\n",
            "epoch 1, iter 130, avg. loss 136.78, avg. ppl 184.33 cum. examples 4160, speed 3477.22 words/sec, time elapsed 34.59 sec\n",
            "epoch 1, iter 140, avg. loss 132.89, avg. ppl 181.01 cum. examples 4480, speed 3291.82 words/sec, time elapsed 37.07 sec\n",
            "epoch 1, iter 150, avg. loss 134.69, avg. ppl 171.89 cum. examples 4800, speed 3551.99 words/sec, time elapsed 39.43 sec\n",
            "epoch 1, iter 160, avg. loss 129.56, avg. ppl 158.20 cum. examples 5120, speed 3206.15 words/sec, time elapsed 41.98 sec\n",
            "epoch 1, iter 170, avg. loss 132.36, avg. ppl 163.75 cum. examples 5440, speed 2866.36 words/sec, time elapsed 44.88 sec\n",
            "epoch 1, iter 180, avg. loss 137.68, avg. ppl 149.46 cum. examples 5760, speed 3307.95 words/sec, time elapsed 47.54 sec\n",
            "epoch 1, iter 190, avg. loss 136.14, avg. ppl 160.93 cum. examples 6080, speed 2849.32 words/sec, time elapsed 50.55 sec\n",
            "epoch 1, iter 200, avg. loss 128.10, avg. ppl 137.85 cum. examples 6400, speed 2751.84 words/sec, time elapsed 53.57 sec\n",
            "epoch 1, iter 200, cum. loss 148.19, cum. ppl 280.52 cum. examples 6400\n",
            "begin validation ...\n",
            "validation: iter 200, dev. ppl 145.139777\n",
            "save currently the best model to [model.bin]\n",
            "save model parameters to [model.bin]\n",
            "epoch 1, iter 210, avg. loss 122.92, avg. ppl 147.82 cum. examples 320, speed 900.92 words/sec, time elapsed 62.31 sec\n",
            "epoch 1, iter 220, avg. loss 133.04, avg. ppl 136.90 cum. examples 640, speed 3245.03 words/sec, time elapsed 64.98 sec\n",
            "epoch 1, iter 230, avg. loss 122.55, avg. ppl 117.61 cum. examples 960, speed 3347.24 words/sec, time elapsed 67.44 sec\n",
            "epoch 1, iter 240, avg. loss 126.53, avg. ppl 115.19 cum. examples 1280, speed 3031.53 words/sec, time elapsed 70.25 sec\n",
            "epoch 1, iter 250, avg. loss 127.34, avg. ppl 116.47 cum. examples 1600, speed 3270.71 words/sec, time elapsed 72.87 sec\n",
            "epoch 1, iter 260, avg. loss 126.38, avg. ppl 101.46 cum. examples 1920, speed 3320.88 words/sec, time elapsed 75.51 sec\n",
            "epoch 1, iter 270, avg. loss 115.02, avg. ppl 104.68 cum. examples 2240, speed 3309.73 words/sec, time elapsed 77.90 sec\n",
            "epoch 1, iter 280, avg. loss 121.45, avg. ppl 106.63 cum. examples 2560, speed 3107.94 words/sec, time elapsed 80.58 sec\n",
            "epoch 1, iter 290, avg. loss 130.09, avg. ppl 125.40 cum. examples 2880, speed 2906.60 words/sec, time elapsed 83.54 sec\n",
            "epoch 1, iter 300, avg. loss 121.69, avg. ppl 104.53 cum. examples 3200, speed 3201.15 words/sec, time elapsed 86.16 sec\n",
            "epoch 1, iter 310, avg. loss 121.79, avg. ppl 97.54 cum. examples 3520, speed 3217.36 words/sec, time elapsed 88.80 sec\n",
            "epoch 1, iter 320, avg. loss 119.09, avg. ppl 94.62 cum. examples 3840, speed 2900.71 words/sec, time elapsed 91.69 sec\n",
            "epoch 1, iter 330, avg. loss 122.28, avg. ppl 101.49 cum. examples 4160, speed 3293.59 words/sec, time elapsed 94.26 sec\n",
            "epoch 1, iter 340, avg. loss 105.29, avg. ppl 86.21 cum. examples 4480, speed 3100.75 words/sec, time elapsed 96.70 sec\n",
            "epoch 1, iter 350, avg. loss 113.80, avg. ppl 89.76 cum. examples 4800, speed 3361.61 words/sec, time elapsed 99.11 sec\n",
            "epoch 1, iter 360, avg. loss 113.69, avg. ppl 86.44 cum. examples 5120, speed 2836.42 words/sec, time elapsed 101.98 sec\n",
            "epoch 1, iter 370, avg. loss 113.59, avg. ppl 88.71 cum. examples 5440, speed 3055.87 words/sec, time elapsed 104.64 sec\n",
            "epoch 1, iter 380, avg. loss 114.95, avg. ppl 95.25 cum. examples 5760, speed 3012.37 words/sec, time elapsed 107.32 sec\n",
            "epoch 1, iter 390, avg. loss 117.40, avg. ppl 81.16 cum. examples 6080, speed 2896.20 words/sec, time elapsed 110.27 sec\n",
            "epoch 1, iter 400, avg. loss 119.34, avg. ppl 83.64 cum. examples 6400, speed 2997.49 words/sec, time elapsed 113.14 sec\n",
            "epoch 1, iter 400, cum. loss 120.41, cum. ppl 102.78 cum. examples 6400\n",
            "begin validation ...\n",
            "validation: iter 400, dev. ppl 90.506958\n",
            "save currently the best model to [model.bin]\n",
            "save model parameters to [model.bin]\n",
            "epoch 1, iter 410, avg. loss 110.37, avg. ppl 72.84 cum. examples 320, speed 938.75 words/sec, time elapsed 121.92 sec\n",
            "epoch 1, iter 420, avg. loss 112.81, avg. ppl 69.89 cum. examples 640, speed 3479.74 words/sec, time elapsed 124.36 sec\n",
            "epoch 1, iter 430, avg. loss 115.13, avg. ppl 86.79 cum. examples 960, speed 3290.95 words/sec, time elapsed 126.87 sec\n",
            "epoch 1, iter 440, avg. loss 112.70, avg. ppl 75.42 cum. examples 1280, speed 2794.70 words/sec, time elapsed 129.85 sec\n",
            "epoch 1, iter 450, avg. loss 107.59, avg. ppl 71.36 cum. examples 1600, speed 2807.23 words/sec, time elapsed 132.73 sec\n",
            "epoch 1, iter 460, avg. loss 115.03, avg. ppl 80.92 cum. examples 1920, speed 2936.94 words/sec, time elapsed 135.58 sec\n",
            "epoch 2, iter 470, avg. loss 110.47, avg. ppl 61.28 cum. examples 2215, speed 2932.23 words/sec, time elapsed 138.28 sec\n",
            "epoch 2, iter 480, avg. loss 104.40, avg. ppl 51.48 cum. examples 2535, speed 3213.61 words/sec, time elapsed 140.92 sec\n",
            "epoch 2, iter 490, avg. loss 103.41, avg. ppl 54.93 cum. examples 2855, speed 2940.06 words/sec, time elapsed 143.73 sec\n",
            "epoch 2, iter 500, avg. loss 99.76, avg. ppl 52.24 cum. examples 3175, speed 2833.82 words/sec, time elapsed 146.58 sec\n",
            "epoch 2, iter 510, avg. loss 101.78, avg. ppl 50.54 cum. examples 3495, speed 2771.81 words/sec, time elapsed 149.57 sec\n",
            "epoch 2, iter 520, avg. loss 99.51, avg. ppl 52.74 cum. examples 3815, speed 3166.22 words/sec, time elapsed 152.11 sec\n",
            "epoch 2, iter 530, avg. loss 104.12, avg. ppl 48.11 cum. examples 4135, speed 2914.18 words/sec, time elapsed 155.06 sec\n",
            "epoch 2, iter 540, avg. loss 103.23, avg. ppl 50.84 cum. examples 4455, speed 2945.71 words/sec, time elapsed 157.91 sec\n",
            "epoch 2, iter 550, avg. loss 101.09, avg. ppl 46.52 cum. examples 4775, speed 2886.56 words/sec, time elapsed 160.83 sec\n",
            "epoch 2, iter 560, avg. loss 104.15, avg. ppl 50.02 cum. examples 5095, speed 3239.24 words/sec, time elapsed 163.46 sec\n",
            "epoch 2, iter 570, avg. loss 104.41, avg. ppl 55.10 cum. examples 5415, speed 2880.34 words/sec, time elapsed 166.36 sec\n",
            "epoch 2, iter 580, avg. loss 100.63, avg. ppl 52.14 cum. examples 5735, speed 3111.55 words/sec, time elapsed 168.97 sec\n",
            "epoch 2, iter 590, avg. loss 105.97, avg. ppl 44.64 cum. examples 6055, speed 2955.94 words/sec, time elapsed 171.99 sec\n",
            "epoch 2, iter 600, avg. loss 104.66, avg. ppl 48.11 cum. examples 6375, speed 3253.35 words/sec, time elapsed 174.65 sec\n",
            "epoch 2, iter 600, cum. loss 106.04, cum. ppl 57.51 cum. examples 6375\n",
            "begin validation ...\n",
            "validation: iter 600, dev. ppl 67.342362\n",
            "save currently the best model to [model.bin]\n",
            "save model parameters to [model.bin]\n",
            "epoch 2, iter 610, avg. loss 104.49, avg. ppl 51.22 cum. examples 320, speed 945.08 words/sec, time elapsed 183.64 sec\n",
            "epoch 2, iter 620, avg. loss 104.25, avg. ppl 45.14 cum. examples 640, speed 3315.92 words/sec, time elapsed 186.28 sec\n",
            "epoch 2, iter 630, avg. loss 91.33, avg. ppl 40.79 cum. examples 960, speed 3093.72 words/sec, time elapsed 188.83 sec\n",
            "epoch 2, iter 640, avg. loss 112.53, avg. ppl 53.91 cum. examples 1280, speed 2946.81 words/sec, time elapsed 191.89 sec\n",
            "epoch 2, iter 650, avg. loss 95.15, avg. ppl 46.47 cum. examples 1600, speed 2818.50 words/sec, time elapsed 194.71 sec\n",
            "epoch 2, iter 660, avg. loss 97.50, avg. ppl 45.68 cum. examples 1920, speed 2667.50 words/sec, time elapsed 197.77 sec\n",
            "epoch 2, iter 670, avg. loss 94.05, avg. ppl 44.47 cum. examples 2240, speed 3317.83 words/sec, time elapsed 200.16 sec\n",
            "epoch 2, iter 680, avg. loss 101.60, avg. ppl 47.03 cum. examples 2560, speed 3081.45 words/sec, time elapsed 202.90 sec\n",
            "epoch 2, iter 690, avg. loss 103.29, avg. ppl 48.47 cum. examples 2880, speed 3191.41 words/sec, time elapsed 205.57 sec\n",
            "epoch 2, iter 700, avg. loss 100.00, avg. ppl 40.37 cum. examples 3200, speed 2951.43 words/sec, time elapsed 208.50 sec\n",
            "epoch 2, iter 710, avg. loss 98.16, avg. ppl 42.07 cum. examples 3520, speed 3255.94 words/sec, time elapsed 211.08 sec\n",
            "epoch 2, iter 720, avg. loss 100.66, avg. ppl 45.84 cum. examples 3840, speed 2903.98 words/sec, time elapsed 213.98 sec\n",
            "epoch 2, iter 730, avg. loss 101.28, avg. ppl 47.12 cum. examples 4160, speed 3199.94 words/sec, time elapsed 216.61 sec\n",
            "epoch 2, iter 740, avg. loss 100.25, avg. ppl 43.00 cum. examples 4480, speed 3278.31 words/sec, time elapsed 219.21 sec\n",
            "epoch 2, iter 750, avg. loss 92.98, avg. ppl 37.34 cum. examples 4800, speed 3305.83 words/sec, time elapsed 221.69 sec\n",
            "epoch 2, iter 760, avg. loss 96.18, avg. ppl 39.43 cum. examples 5120, speed 3243.94 words/sec, time elapsed 224.28 sec\n",
            "epoch 2, iter 770, avg. loss 96.65, avg. ppl 41.09 cum. examples 5440, speed 2999.22 words/sec, time elapsed 227.05 sec\n",
            "epoch 2, iter 780, avg. loss 95.00, avg. ppl 38.40 cum. examples 5760, speed 3153.90 words/sec, time elapsed 229.69 sec\n",
            "epoch 2, iter 790, avg. loss 95.29, avg. ppl 41.23 cum. examples 6080, speed 3103.09 words/sec, time elapsed 232.34 sec\n",
            "epoch 2, iter 800, avg. loss 94.61, avg. ppl 40.35 cum. examples 6400, speed 3250.68 words/sec, time elapsed 234.86 sec\n",
            "epoch 2, iter 800, cum. loss 98.76, cum. ppl 43.83 cum. examples 6400\n",
            "begin validation ...\n",
            "validation: iter 800, dev. ppl 54.976465\n",
            "save currently the best model to [model.bin]\n",
            "save model parameters to [model.bin]\n",
            "epoch 2, iter 810, avg. loss 99.93, avg. ppl 42.49 cum. examples 320, speed 943.66 words/sec, time elapsed 243.89 sec\n",
            "epoch 2, iter 820, avg. loss 97.57, avg. ppl 39.18 cum. examples 640, speed 3311.83 words/sec, time elapsed 246.46 sec\n",
            "epoch 2, iter 830, avg. loss 94.04, avg. ppl 41.03 cum. examples 960, speed 3332.91 words/sec, time elapsed 248.89 sec\n",
            "epoch 2, iter 840, avg. loss 96.68, avg. ppl 38.62 cum. examples 1280, speed 3161.30 words/sec, time elapsed 251.57 sec\n",
            "epoch 2, iter 850, avg. loss 92.23, avg. ppl 36.67 cum. examples 1600, speed 2791.45 words/sec, time elapsed 254.51 sec\n",
            "epoch 2, iter 860, avg. loss 93.66, avg. ppl 38.56 cum. examples 1920, speed 3101.47 words/sec, time elapsed 257.15 sec\n",
            "epoch 2, iter 870, avg. loss 95.50, avg. ppl 39.63 cum. examples 2240, speed 2922.58 words/sec, time elapsed 260.00 sec\n",
            "epoch 2, iter 880, avg. loss 91.54, avg. ppl 36.89 cum. examples 2560, speed 3172.24 words/sec, time elapsed 262.56 sec\n",
            "epoch 2, iter 890, avg. loss 92.51, avg. ppl 37.52 cum. examples 2880, speed 3003.82 words/sec, time elapsed 265.27 sec\n",
            "epoch 2, iter 900, avg. loss 89.12, avg. ppl 34.58 cum. examples 3200, speed 3140.46 words/sec, time elapsed 267.84 sec\n",
            "epoch 2, iter 910, avg. loss 95.61, avg. ppl 38.42 cum. examples 3520, speed 2772.35 words/sec, time elapsed 270.86 sec\n",
            "epoch 2, iter 920, avg. loss 97.19, avg. ppl 38.58 cum. examples 3840, speed 3437.88 words/sec, time elapsed 273.34 sec\n",
            "epoch 2, iter 930, avg. loss 92.58, avg. ppl 34.21 cum. examples 4135, speed 3109.07 words/sec, time elapsed 275.83 sec\n",
            "epoch 3, iter 940, avg. loss 81.83, avg. ppl 23.65 cum. examples 4455, speed 3105.24 words/sec, time elapsed 278.49 sec\n",
            "epoch 3, iter 950, avg. loss 84.41, avg. ppl 24.64 cum. examples 4775, speed 3262.11 words/sec, time elapsed 281.07 sec\n",
            "epoch 3, iter 960, avg. loss 83.76, avg. ppl 23.26 cum. examples 5095, speed 3153.35 words/sec, time elapsed 283.78 sec\n",
            "epoch 3, iter 970, avg. loss 79.63, avg. ppl 23.80 cum. examples 5415, speed 3267.34 words/sec, time elapsed 286.24 sec\n",
            "epoch 3, iter 980, avg. loss 86.49, avg. ppl 22.64 cum. examples 5735, speed 3153.70 words/sec, time elapsed 289.05 sec\n",
            "epoch 3, iter 990, avg. loss 82.64, avg. ppl 22.83 cum. examples 6055, speed 3115.05 words/sec, time elapsed 291.76 sec\n",
            "epoch 3, iter 1000, avg. loss 82.00, avg. ppl 23.42 cum. examples 6375, speed 3450.80 words/sec, time elapsed 294.17 sec\n",
            "epoch 3, iter 1000, cum. loss 90.44, cum. ppl 32.11 cum. examples 6375\n",
            "begin validation ...\n",
            "validation: iter 1000, dev. ppl 48.512343\n",
            "save currently the best model to [model.bin]\n",
            "save model parameters to [model.bin]\n",
            "epoch 3, iter 1010, avg. loss 81.52, avg. ppl 20.92 cum. examples 320, speed 991.99 words/sec, time elapsed 302.82 sec\n",
            "epoch 3, iter 1020, avg. loss 85.29, avg. ppl 25.31 cum. examples 640, speed 2789.60 words/sec, time elapsed 305.85 sec\n",
            "epoch 3, iter 1030, avg. loss 77.17, avg. ppl 21.05 cum. examples 960, speed 3061.83 words/sec, time elapsed 308.50 sec\n",
            "epoch 3, iter 1040, avg. loss 81.45, avg. ppl 24.24 cum. examples 1280, speed 3136.04 words/sec, time elapsed 311.11 sec\n",
            "epoch 3, iter 1050, avg. loss 84.25, avg. ppl 24.62 cum. examples 1600, speed 2875.10 words/sec, time elapsed 314.03 sec\n",
            "epoch 3, iter 1060, avg. loss 81.30, avg. ppl 23.04 cum. examples 1920, speed 3238.52 words/sec, time elapsed 316.59 sec\n",
            "epoch 3, iter 1070, avg. loss 83.29, avg. ppl 21.22 cum. examples 2240, speed 3152.19 words/sec, time elapsed 319.36 sec\n",
            "epoch 3, iter 1080, avg. loss 79.78, avg. ppl 21.49 cum. examples 2560, speed 2990.29 words/sec, time elapsed 322.14 sec\n",
            "epoch 3, iter 1090, avg. loss 75.77, avg. ppl 19.97 cum. examples 2880, speed 3306.02 words/sec, time elapsed 324.59 sec\n",
            "epoch 3, iter 1100, avg. loss 85.90, avg. ppl 24.23 cum. examples 3200, speed 2932.84 words/sec, time elapsed 327.53 sec\n",
            "epoch 3, iter 1110, avg. loss 83.45, avg. ppl 23.38 cum. examples 3520, speed 2329.84 words/sec, time elapsed 331.17 sec\n",
            "epoch 3, iter 1120, avg. loss 83.42, avg. ppl 25.07 cum. examples 3840, speed 3012.98 words/sec, time elapsed 333.92 sec\n",
            "epoch 3, iter 1130, avg. loss 74.36, avg. ppl 18.70 cum. examples 4160, speed 2987.31 words/sec, time elapsed 336.64 sec\n",
            "epoch 3, iter 1140, avg. loss 79.84, avg. ppl 21.61 cum. examples 4480, speed 3097.20 words/sec, time elapsed 339.32 sec\n",
            "epoch 3, iter 1150, avg. loss 83.57, avg. ppl 22.19 cum. examples 4800, speed 3168.13 words/sec, time elapsed 342.05 sec\n",
            "epoch 3, iter 1160, avg. loss 81.93, avg. ppl 20.93 cum. examples 5120, speed 3150.33 words/sec, time elapsed 344.78 sec\n",
            "epoch 3, iter 1170, avg. loss 76.82, avg. ppl 20.79 cum. examples 5440, speed 3144.72 words/sec, time elapsed 347.36 sec\n",
            "epoch 3, iter 1180, avg. loss 80.88, avg. ppl 21.88 cum. examples 5760, speed 3015.04 words/sec, time elapsed 350.14 sec\n",
            "epoch 3, iter 1190, avg. loss 79.73, avg. ppl 22.25 cum. examples 6080, speed 3288.85 words/sec, time elapsed 352.64 sec\n",
            "epoch 3, iter 1200, avg. loss 75.68, avg. ppl 20.23 cum. examples 6400, speed 3266.02 words/sec, time elapsed 355.11 sec\n",
            "epoch 3, iter 1200, cum. loss 80.77, cum. ppl 22.10 cum. examples 6400\n",
            "begin validation ...\n",
            "validation: iter 1200, dev. ppl 44.045098\n",
            "save currently the best model to [model.bin]\n",
            "save model parameters to [model.bin]\n",
            "epoch 3, iter 1210, avg. loss 76.15, avg. ppl 20.82 cum. examples 320, speed 947.24 words/sec, time elapsed 363.58 sec\n",
            "epoch 3, iter 1220, avg. loss 79.05, avg. ppl 21.33 cum. examples 640, speed 3399.22 words/sec, time elapsed 366.01 sec\n",
            "epoch 3, iter 1230, avg. loss 84.03, avg. ppl 23.34 cum. examples 960, speed 3131.33 words/sec, time elapsed 368.74 sec\n",
            "epoch 3, iter 1240, avg. loss 81.17, avg. ppl 22.16 cum. examples 1280, speed 3190.97 words/sec, time elapsed 371.37 sec\n",
            "epoch 3, iter 1250, avg. loss 78.77, avg. ppl 17.61 cum. examples 1600, speed 3284.48 words/sec, time elapsed 374.04 sec\n",
            "epoch 3, iter 1260, avg. loss 81.98, avg. ppl 21.87 cum. examples 1920, speed 2977.85 words/sec, time elapsed 376.90 sec\n",
            "epoch 3, iter 1270, avg. loss 86.24, avg. ppl 23.16 cum. examples 2240, speed 2585.17 words/sec, time elapsed 380.30 sec\n",
            "epoch 3, iter 1280, avg. loss 75.79, avg. ppl 19.01 cum. examples 2560, speed 3162.50 words/sec, time elapsed 382.90 sec\n",
            "epoch 3, iter 1290, avg. loss 75.78, avg. ppl 20.58 cum. examples 2880, speed 3240.77 words/sec, time elapsed 385.37 sec\n",
            "epoch 3, iter 1300, avg. loss 74.41, avg. ppl 20.61 cum. examples 3200, speed 2944.79 words/sec, time elapsed 388.05 sec\n",
            "epoch 3, iter 1310, avg. loss 85.37, avg. ppl 23.34 cum. examples 3520, speed 3076.75 words/sec, time elapsed 390.87 sec\n",
            "epoch 3, iter 1320, avg. loss 81.02, avg. ppl 22.20 cum. examples 3840, speed 2983.00 words/sec, time elapsed 393.67 sec\n",
            "epoch 3, iter 1330, avg. loss 77.10, avg. ppl 20.34 cum. examples 4160, speed 3211.53 words/sec, time elapsed 396.22 sec\n",
            "epoch 3, iter 1340, avg. loss 79.98, avg. ppl 21.60 cum. examples 4480, speed 3004.64 words/sec, time elapsed 398.99 sec\n",
            "epoch 3, iter 1350, avg. loss 78.62, avg. ppl 20.28 cum. examples 4800, speed 2872.09 words/sec, time elapsed 401.90 sec\n",
            "epoch 3, iter 1360, avg. loss 81.37, avg. ppl 21.62 cum. examples 5120, speed 2925.39 words/sec, time elapsed 404.80 sec\n",
            "epoch 3, iter 1370, avg. loss 72.42, avg. ppl 18.51 cum. examples 5440, speed 3361.66 words/sec, time elapsed 407.16 sec\n",
            "epoch 3, iter 1380, avg. loss 85.21, avg. ppl 23.40 cum. examples 5760, speed 2650.51 words/sec, time elapsed 410.42 sec\n",
            "epoch 3, iter 1390, avg. loss 79.22, avg. ppl 22.37 cum. examples 6080, speed 3233.55 words/sec, time elapsed 412.95 sec\n",
            "epoch 4, iter 1400, avg. loss 72.59, avg. ppl 14.68 cum. examples 6375, speed 2846.35 words/sec, time elapsed 415.75 sec\n",
            "epoch 4, iter 1400, cum. loss 79.34, cum. ppl 20.85 cum. examples 6375\n",
            "begin validation ...\n",
            "validation: iter 1400, dev. ppl 40.109264\n",
            "save currently the best model to [model.bin]\n",
            "save model parameters to [model.bin]\n",
            "epoch 4, iter 1410, avg. loss 61.40, avg. ppl 11.15 cum. examples 320, speed 946.42 words/sec, time elapsed 424.36 sec\n",
            "epoch 4, iter 1420, avg. loss 60.27, avg. ppl 10.38 cum. examples 640, speed 3184.01 words/sec, time elapsed 426.94 sec\n",
            "epoch 4, iter 1430, avg. loss 67.96, avg. ppl 12.77 cum. examples 960, speed 2813.95 words/sec, time elapsed 429.98 sec\n",
            "epoch 4, iter 1440, avg. loss 69.65, avg. ppl 12.79 cum. examples 1280, speed 2831.89 words/sec, time elapsed 433.07 sec\n",
            "epoch 4, iter 1450, avg. loss 65.09, avg. ppl 11.97 cum. examples 1600, speed 2918.34 words/sec, time elapsed 435.94 sec\n",
            "epoch 4, iter 1460, avg. loss 67.07, avg. ppl 14.56 cum. examples 1920, speed 3059.33 words/sec, time elapsed 438.56 sec\n",
            "epoch 4, iter 1470, avg. loss 66.30, avg. ppl 12.48 cum. examples 2240, speed 3219.48 words/sec, time elapsed 441.17 sec\n",
            "epoch 4, iter 1480, avg. loss 63.25, avg. ppl 11.72 cum. examples 2560, speed 3035.78 words/sec, time elapsed 443.88 sec\n",
            "epoch 4, iter 1490, avg. loss 64.25, avg. ppl 12.30 cum. examples 2880, speed 3126.07 words/sec, time elapsed 446.50 sec\n",
            "epoch 4, iter 1500, avg. loss 68.40, avg. ppl 13.02 cum. examples 3200, speed 2768.10 words/sec, time elapsed 449.58 sec\n",
            "epoch 4, iter 1510, avg. loss 61.93, avg. ppl 11.64 cum. examples 3520, speed 3074.97 words/sec, time elapsed 452.21 sec\n",
            "epoch 4, iter 1520, avg. loss 68.14, avg. ppl 13.23 cum. examples 3840, speed 3060.15 words/sec, time elapsed 454.97 sec\n",
            "epoch 4, iter 1530, avg. loss 64.28, avg. ppl 12.07 cum. examples 4160, speed 2986.74 words/sec, time elapsed 457.73 sec\n",
            "epoch 4, iter 1540, avg. loss 66.14, avg. ppl 12.99 cum. examples 4480, speed 3109.26 words/sec, time elapsed 460.39 sec\n",
            "epoch 4, iter 1550, avg. loss 69.37, avg. ppl 13.95 cum. examples 4800, speed 2503.90 words/sec, time elapsed 463.75 sec\n",
            "epoch 4, iter 1560, avg. loss 59.96, avg. ppl 10.94 cum. examples 5120, speed 3168.19 words/sec, time elapsed 466.28 sec\n",
            "epoch 4, iter 1570, avg. loss 64.86, avg. ppl 12.45 cum. examples 5440, speed 3292.50 words/sec, time elapsed 468.78 sec\n",
            "epoch 4, iter 1580, avg. loss 61.97, avg. ppl 12.14 cum. examples 5760, speed 2801.31 words/sec, time elapsed 471.62 sec\n",
            "epoch 4, iter 1590, avg. loss 65.04, avg. ppl 12.07 cum. examples 6080, speed 3054.44 words/sec, time elapsed 474.35 sec\n",
            "epoch 4, iter 1600, avg. loss 65.69, avg. ppl 12.01 cum. examples 6400, speed 3119.31 words/sec, time elapsed 477.07 sec\n",
            "epoch 4, iter 1600, cum. loss 65.05, cum. ppl 12.30 cum. examples 6400\n",
            "begin validation ...\n",
            "validation: iter 1600, dev. ppl 41.022965\n",
            "hit patience 1\n",
            "hit #1 trial\n",
            "load previously best model and decay learning rate to 0.000250\n",
            "restore parameters of the optimizers\n",
            "epoch 4, iter 1610, avg. loss 66.97, avg. ppl 12.77 cum. examples 320, speed 1225.70 words/sec, time elapsed 483.93 sec\n",
            "epoch 4, iter 1620, avg. loss 65.48, avg. ppl 11.46 cum. examples 640, speed 3310.37 words/sec, time elapsed 486.52 sec\n",
            "epoch 4, iter 1630, avg. loss 64.37, avg. ppl 12.19 cum. examples 960, speed 3055.31 words/sec, time elapsed 489.22 sec\n",
            "epoch 4, iter 1640, avg. loss 61.03, avg. ppl 10.91 cum. examples 1280, speed 3134.75 words/sec, time elapsed 491.83 sec\n",
            "epoch 4, iter 1650, avg. loss 63.73, avg. ppl 11.14 cum. examples 1600, speed 3042.04 words/sec, time elapsed 494.61 sec\n",
            "epoch 4, iter 1660, avg. loss 62.51, avg. ppl 10.67 cum. examples 1920, speed 3163.19 words/sec, time elapsed 497.28 sec\n",
            "epoch 4, iter 1670, avg. loss 63.47, avg. ppl 10.36 cum. examples 2240, speed 3241.97 words/sec, time elapsed 499.96 sec\n",
            "epoch 4, iter 1680, avg. loss 67.70, avg. ppl 11.80 cum. examples 2560, speed 2864.63 words/sec, time elapsed 503.02 sec\n",
            "epoch 4, iter 1690, avg. loss 61.59, avg. ppl 10.79 cum. examples 2880, speed 3179.07 words/sec, time elapsed 505.63 sec\n",
            "epoch 4, iter 1700, avg. loss 63.18, avg. ppl 11.65 cum. examples 3200, speed 2955.57 words/sec, time elapsed 508.42 sec\n",
            "epoch 4, iter 1710, avg. loss 63.75, avg. ppl 10.83 cum. examples 3520, speed 3347.57 words/sec, time elapsed 510.98 sec\n",
            "epoch 4, iter 1720, avg. loss 61.83, avg. ppl 10.90 cum. examples 3840, speed 3254.61 words/sec, time elapsed 513.52 sec\n",
            "epoch 4, iter 1730, avg. loss 61.95, avg. ppl 11.02 cum. examples 4160, speed 2964.70 words/sec, time elapsed 516.31 sec\n",
            "epoch 4, iter 1740, avg. loss 60.94, avg. ppl 10.21 cum. examples 4480, speed 3313.90 words/sec, time elapsed 518.84 sec\n",
            "epoch 4, iter 1750, avg. loss 59.33, avg. ppl 10.23 cum. examples 4800, speed 3151.67 words/sec, time elapsed 521.43 sec\n",
            "epoch 4, iter 1760, avg. loss 66.34, avg. ppl 12.61 cum. examples 5120, speed 3196.29 words/sec, time elapsed 524.05 sec\n",
            "epoch 4, iter 1770, avg. loss 61.68, avg. ppl 11.62 cum. examples 5440, speed 3201.47 words/sec, time elapsed 526.56 sec\n",
            "epoch 4, iter 1780, avg. loss 62.51, avg. ppl 10.55 cum. examples 5760, speed 3135.46 words/sec, time elapsed 529.27 sec\n",
            "epoch 4, iter 1790, avg. loss 63.99, avg. ppl 11.49 cum. examples 6080, speed 2922.68 words/sec, time elapsed 532.14 sec\n",
            "epoch 4, iter 1800, avg. loss 63.17, avg. ppl 10.92 cum. examples 6400, speed 3234.47 words/sec, time elapsed 534.75 sec\n",
            "epoch 4, iter 1800, cum. loss 63.28, cum. ppl 11.18 cum. examples 6400\n",
            "begin validation ...\n",
            "validation: iter 1800, dev. ppl 38.975119\n",
            "save currently the best model to [model.bin]\n",
            "save model parameters to [model.bin]\n",
            "epoch 4, iter 1810, avg. loss 59.59, avg. ppl 9.90 cum. examples 320, speed 880.48 words/sec, time elapsed 544.20 sec\n",
            "epoch 4, iter 1820, avg. loss 62.21, avg. ppl 11.07 cum. examples 640, speed 3042.07 words/sec, time elapsed 546.92 sec\n",
            "epoch 4, iter 1830, avg. loss 64.19, avg. ppl 10.94 cum. examples 960, speed 3164.91 words/sec, time elapsed 549.64 sec\n",
            "epoch 4, iter 1840, avg. loss 62.22, avg. ppl 10.77 cum. examples 1280, speed 3029.77 words/sec, time elapsed 552.40 sec\n",
            "epoch 4, iter 1850, avg. loss 64.29, avg. ppl 11.31 cum. examples 1600, speed 2934.57 words/sec, time elapsed 555.29 sec\n",
            "epoch 4, iter 1860, avg. loss 64.33, avg. ppl 11.20 cum. examples 1895, speed 2943.60 words/sec, time elapsed 557.96 sec\n",
            "epoch 5, iter 1870, avg. loss 58.66, avg. ppl 8.86 cum. examples 2215, speed 3085.59 words/sec, time elapsed 560.75 sec\n",
            "epoch 5, iter 1880, avg. loss 54.45, avg. ppl 8.02 cum. examples 2535, speed 3111.21 words/sec, time elapsed 563.44 sec\n",
            "epoch 5, iter 1890, avg. loss 55.20, avg. ppl 8.01 cum. examples 2855, speed 3044.58 words/sec, time elapsed 566.23 sec\n",
            "epoch 5, iter 1900, avg. loss 55.70, avg. ppl 8.20 cum. examples 3175, speed 3366.67 words/sec, time elapsed 568.75 sec\n",
            "epoch 5, iter 1910, avg. loss 53.11, avg. ppl 8.03 cum. examples 3495, speed 3147.79 words/sec, time elapsed 571.34 sec\n",
            "epoch 5, iter 1920, avg. loss 60.35, avg. ppl 9.50 cum. examples 3815, speed 2871.25 words/sec, time elapsed 574.32 sec\n",
            "epoch 5, iter 1930, avg. loss 51.61, avg. ppl 7.75 cum. examples 4135, speed 3327.65 words/sec, time elapsed 576.75 sec\n",
            "epoch 5, iter 1940, avg. loss 55.45, avg. ppl 8.42 cum. examples 4455, speed 2640.54 words/sec, time elapsed 579.90 sec\n",
            "epoch 5, iter 1950, avg. loss 57.47, avg. ppl 8.54 cum. examples 4775, speed 3328.30 words/sec, time elapsed 582.48 sec\n",
            "epoch 5, iter 1960, avg. loss 55.02, avg. ppl 8.30 cum. examples 5095, speed 3087.12 words/sec, time elapsed 585.17 sec\n",
            "epoch 5, iter 1970, avg. loss 58.32, avg. ppl 8.46 cum. examples 5415, speed 3420.96 words/sec, time elapsed 587.73 sec\n",
            "epoch 5, iter 1980, avg. loss 55.89, avg. ppl 8.83 cum. examples 5735, speed 2907.52 words/sec, time elapsed 590.55 sec\n",
            "epoch 5, iter 1990, avg. loss 59.85, avg. ppl 9.29 cum. examples 6055, speed 2920.30 words/sec, time elapsed 593.49 sec\n",
            "epoch 5, iter 2000, avg. loss 56.18, avg. ppl 8.70 cum. examples 6375, speed 3070.18 words/sec, time elapsed 596.20 sec\n",
            "epoch 5, iter 2000, cum. loss 58.18, cum. ppl 9.13 cum. examples 6375\n",
            "begin validation ...\n",
            "validation: iter 2000, dev. ppl 40.329288\n",
            "hit patience 1\n",
            "hit #2 trial\n",
            "load previously best model and decay learning rate to 0.000125\n",
            "restore parameters of the optimizers\n",
            "epoch 5, iter 2010, avg. loss 54.13, avg. ppl 8.81 cum. examples 320, speed 1257.47 words/sec, time elapsed 602.53 sec\n",
            "epoch 5, iter 2020, avg. loss 62.02, avg. ppl 10.70 cum. examples 640, speed 2571.17 words/sec, time elapsed 605.79 sec\n",
            "epoch 5, iter 2030, avg. loss 58.42, avg. ppl 9.68 cum. examples 960, speed 2650.56 words/sec, time elapsed 608.90 sec\n",
            "epoch 5, iter 2040, avg. loss 57.49, avg. ppl 9.25 cum. examples 1280, speed 3095.64 words/sec, time elapsed 611.57 sec\n",
            "epoch 5, iter 2050, avg. loss 54.27, avg. ppl 8.22 cum. examples 1600, speed 3295.86 words/sec, time elapsed 614.07 sec\n",
            "epoch 5, iter 2060, avg. loss 55.14, avg. ppl 8.49 cum. examples 1920, speed 3249.31 words/sec, time elapsed 616.61 sec\n",
            "epoch 5, iter 2070, avg. loss 53.58, avg. ppl 8.35 cum. examples 2240, speed 3044.59 words/sec, time elapsed 619.26 sec\n",
            "epoch 5, iter 2080, avg. loss 56.87, avg. ppl 8.87 cum. examples 2560, speed 3118.92 words/sec, time elapsed 621.94 sec\n",
            "epoch 5, iter 2090, avg. loss 57.55, avg. ppl 8.64 cum. examples 2880, speed 3183.23 words/sec, time elapsed 624.62 sec\n",
            "epoch 5, iter 2100, avg. loss 56.76, avg. ppl 8.80 cum. examples 3200, speed 3010.20 words/sec, time elapsed 627.39 sec\n",
            "epoch 5, iter 2110, avg. loss 56.84, avg. ppl 8.57 cum. examples 3520, speed 3197.24 words/sec, time elapsed 630.04 sec\n",
            "epoch 5, iter 2120, avg. loss 56.99, avg. ppl 9.37 cum. examples 3840, speed 2786.46 words/sec, time elapsed 632.97 sec\n",
            "epoch 5, iter 2130, avg. loss 56.21, avg. ppl 9.31 cum. examples 4160, speed 3052.04 words/sec, time elapsed 635.61 sec\n",
            "epoch 5, iter 2140, avg. loss 55.70, avg. ppl 9.01 cum. examples 4480, speed 2741.53 words/sec, time elapsed 638.57 sec\n",
            "epoch 5, iter 2150, avg. loss 54.78, avg. ppl 8.03 cum. examples 4800, speed 3272.37 words/sec, time elapsed 641.14 sec\n",
            "epoch 5, iter 2160, avg. loss 55.21, avg. ppl 8.38 cum. examples 5120, speed 2970.98 words/sec, time elapsed 643.94 sec\n",
            "epoch 5, iter 2170, avg. loss 61.44, avg. ppl 9.35 cum. examples 5440, speed 2137.56 words/sec, time elapsed 648.05 sec\n",
            "epoch 5, iter 2180, avg. loss 54.02, avg. ppl 7.68 cum. examples 5760, speed 3209.73 words/sec, time elapsed 650.69 sec\n",
            "epoch 5, iter 2190, avg. loss 55.72, avg. ppl 8.49 cum. examples 6080, speed 2967.52 words/sec, time elapsed 653.50 sec\n",
            "epoch 5, iter 2200, avg. loss 62.94, avg. ppl 9.96 cum. examples 6400, speed 3150.37 words/sec, time elapsed 656.28 sec\n",
            "epoch 5, iter 2200, cum. loss 56.80, cum. ppl 8.87 cum. examples 6400\n",
            "begin validation ...\n",
            "validation: iter 2200, dev. ppl 39.407862\n",
            "hit patience 1\n",
            "hit #3 trial\n",
            "load previously best model and decay learning rate to 0.000063\n",
            "restore parameters of the optimizers\n",
            "epoch 5, iter 2210, avg. loss 57.52, avg. ppl 9.40 cum. examples 320, speed 1240.99 words/sec, time elapsed 662.90 sec\n",
            "epoch 5, iter 2220, avg. loss 59.75, avg. ppl 9.72 cum. examples 640, speed 3132.99 words/sec, time elapsed 665.58 sec\n",
            "epoch 5, iter 2230, avg. loss 53.56, avg. ppl 8.14 cum. examples 960, speed 3123.58 words/sec, time elapsed 668.20 sec\n",
            "epoch 5, iter 2240, avg. loss 55.71, avg. ppl 8.50 cum. examples 1280, speed 3437.66 words/sec, time elapsed 670.63 sec\n",
            "epoch 5, iter 2250, avg. loss 57.54, avg. ppl 8.82 cum. examples 1600, speed 3180.69 words/sec, time elapsed 673.29 sec\n",
            "epoch 5, iter 2260, avg. loss 56.11, avg. ppl 9.12 cum. examples 1920, speed 3026.76 words/sec, time elapsed 675.97 sec\n",
            "epoch 5, iter 2270, avg. loss 57.95, avg. ppl 8.80 cum. examples 2240, speed 3117.89 words/sec, time elapsed 678.70 sec\n",
            "epoch 5, iter 2280, avg. loss 58.70, avg. ppl 8.72 cum. examples 2560, speed 3258.43 words/sec, time elapsed 681.37 sec\n",
            "epoch 5, iter 2290, avg. loss 57.15, avg. ppl 8.46 cum. examples 2880, speed 3202.35 words/sec, time elapsed 684.04 sec\n",
            "epoch 5, iter 2300, avg. loss 58.05, avg. ppl 9.04 cum. examples 3200, speed 3094.23 words/sec, time elapsed 686.77 sec\n",
            "epoch 5, iter 2310, avg. loss 55.59, avg. ppl 8.58 cum. examples 3520, speed 3108.06 words/sec, time elapsed 689.43 sec\n",
            "epoch 5, iter 2320, avg. loss 52.82, avg. ppl 8.16 cum. examples 3840, speed 3192.51 words/sec, time elapsed 691.95 sec\n",
            "epoch 6, iter 2330, avg. loss 53.90, avg. ppl 8.60 cum. examples 4135, speed 3064.92 words/sec, time elapsed 694.37 sec\n",
            "epoch 6, iter 2340, avg. loss 53.80, avg. ppl 8.33 cum. examples 4455, speed 3110.02 words/sec, time elapsed 696.98 sec\n",
            "epoch 6, iter 2350, avg. loss 58.60, avg. ppl 8.80 cum. examples 4775, speed 2934.94 words/sec, time elapsed 699.92 sec\n",
            "epoch 6, iter 2360, avg. loss 55.46, avg. ppl 8.54 cum. examples 5095, speed 2743.77 words/sec, time elapsed 702.93 sec\n",
            "epoch 6, iter 2370, avg. loss 51.15, avg. ppl 7.98 cum. examples 5415, speed 3281.41 words/sec, time elapsed 705.33 sec\n",
            "epoch 6, iter 2380, avg. loss 50.22, avg. ppl 7.36 cum. examples 5735, speed 3362.61 words/sec, time elapsed 707.73 sec\n",
            "epoch 6, iter 2390, avg. loss 51.58, avg. ppl 7.74 cum. examples 6055, speed 2982.43 words/sec, time elapsed 710.43 sec\n",
            "epoch 6, iter 2400, avg. loss 56.40, avg. ppl 8.02 cum. examples 6375, speed 3105.49 words/sec, time elapsed 713.22 sec\n",
            "epoch 6, iter 2400, cum. loss 55.59, cum. ppl 8.53 cum. examples 6375\n",
            "begin validation ...\n",
            "validation: iter 2400, dev. ppl 39.124595\n",
            "hit patience 1\n",
            "hit #4 trial\n",
            "load previously best model and decay learning rate to 0.000031\n",
            "restore parameters of the optimizers\n",
            "epoch 6, iter 2410, avg. loss 58.50, avg. ppl 8.62 cum. examples 320, speed 1326.75 words/sec, time elapsed 719.77 sec\n",
            "epoch 6, iter 2420, avg. loss 55.96, avg. ppl 8.77 cum. examples 640, speed 3073.90 words/sec, time elapsed 722.46 sec\n",
            "epoch 6, iter 2430, avg. loss 58.23, avg. ppl 9.14 cum. examples 960, speed 3249.45 words/sec, time elapsed 725.05 sec\n",
            "epoch 6, iter 2440, avg. loss 58.22, avg. ppl 9.18 cum. examples 1280, speed 3341.98 words/sec, time elapsed 727.56 sec\n",
            "epoch 6, iter 2450, avg. loss 58.89, avg. ppl 9.07 cum. examples 1600, speed 2945.25 words/sec, time elapsed 730.46 sec\n",
            "epoch 6, iter 2460, avg. loss 56.94, avg. ppl 8.47 cum. examples 1920, speed 3249.86 words/sec, time elapsed 733.09 sec\n",
            "epoch 6, iter 2470, avg. loss 57.66, avg. ppl 8.72 cum. examples 2240, speed 3477.86 words/sec, time elapsed 735.54 sec\n",
            "epoch 6, iter 2480, avg. loss 54.97, avg. ppl 8.62 cum. examples 2560, speed 3292.01 words/sec, time elapsed 738.02 sec\n",
            "epoch 6, iter 2490, avg. loss 59.72, avg. ppl 9.48 cum. examples 2880, speed 3016.03 words/sec, time elapsed 740.83 sec\n",
            "epoch 6, iter 2500, avg. loss 64.02, avg. ppl 9.19 cum. examples 3200, speed 3045.67 words/sec, time elapsed 743.87 sec\n",
            "epoch 6, iter 2510, avg. loss 57.50, avg. ppl 8.99 cum. examples 3520, speed 3142.00 words/sec, time elapsed 746.53 sec\n",
            "epoch 6, iter 2520, avg. loss 54.98, avg. ppl 8.28 cum. examples 3840, speed 3180.66 words/sec, time elapsed 749.15 sec\n",
            "epoch 6, iter 2530, avg. loss 58.91, avg. ppl 9.08 cum. examples 4160, speed 2747.74 words/sec, time elapsed 752.26 sec\n",
            "epoch 6, iter 2540, avg. loss 58.98, avg. ppl 8.70 cum. examples 4480, speed 3135.81 words/sec, time elapsed 755.04 sec\n",
            "epoch 6, iter 2550, avg. loss 58.86, avg. ppl 9.55 cum. examples 4800, speed 2885.08 words/sec, time elapsed 757.94 sec\n",
            "epoch 6, iter 2560, avg. loss 51.41, avg. ppl 8.06 cum. examples 5120, speed 2861.30 words/sec, time elapsed 760.69 sec\n",
            "epoch 6, iter 2570, avg. loss 61.69, avg. ppl 9.61 cum. examples 5440, speed 2910.13 words/sec, time elapsed 763.69 sec\n",
            "epoch 6, iter 2580, avg. loss 59.07, avg. ppl 9.18 cum. examples 5760, speed 2583.81 words/sec, time elapsed 766.99 sec\n",
            "epoch 6, iter 2590, avg. loss 58.59, avg. ppl 9.59 cum. examples 6080, speed 3077.26 words/sec, time elapsed 769.68 sec\n",
            "epoch 6, iter 2600, avg. loss 60.36, avg. ppl 9.08 cum. examples 6400, speed 2862.58 words/sec, time elapsed 772.74 sec\n",
            "epoch 6, iter 2600, cum. loss 58.17, cum. ppl 8.96 cum. examples 6400\n",
            "begin validation ...\n",
            "validation: iter 2600, dev. ppl 38.628842\n",
            "save currently the best model to [model.bin]\n",
            "save model parameters to [model.bin]\n",
            "epoch 6, iter 2610, avg. loss 56.32, avg. ppl 8.42 cum. examples 320, speed 925.25 words/sec, time elapsed 781.88 sec\n",
            "epoch 6, iter 2620, avg. loss 55.80, avg. ppl 9.14 cum. examples 640, speed 3305.25 words/sec, time elapsed 784.32 sec\n",
            "epoch 6, iter 2630, avg. loss 54.51, avg. ppl 8.50 cum. examples 960, speed 3064.04 words/sec, time elapsed 786.98 sec\n",
            "epoch 6, iter 2640, avg. loss 53.92, avg. ppl 8.57 cum. examples 1280, speed 2992.87 words/sec, time elapsed 789.67 sec\n",
            "epoch 6, iter 2650, avg. loss 58.34, avg. ppl 8.76 cum. examples 1600, speed 3081.74 words/sec, time elapsed 792.46 sec\n",
            "epoch 6, iter 2660, avg. loss 53.50, avg. ppl 8.12 cum. examples 1920, speed 3101.73 words/sec, time elapsed 795.09 sec\n",
            "epoch 6, iter 2670, avg. loss 54.99, avg. ppl 8.05 cum. examples 2240, speed 3302.47 words/sec, time elapsed 797.65 sec\n",
            "epoch 6, iter 2680, avg. loss 53.76, avg. ppl 8.36 cum. examples 2560, speed 2988.56 words/sec, time elapsed 800.36 sec\n",
            "epoch 6, iter 2690, avg. loss 56.88, avg. ppl 9.23 cum. examples 2880, speed 2908.94 words/sec, time elapsed 803.18 sec\n",
            "epoch 6, iter 2700, avg. loss 51.95, avg. ppl 8.07 cum. examples 3200, speed 3201.66 words/sec, time elapsed 805.66 sec\n",
            "epoch 6, iter 2710, avg. loss 53.53, avg. ppl 7.91 cum. examples 3520, speed 3006.84 words/sec, time elapsed 808.42 sec\n",
            "epoch 6, iter 2720, avg. loss 52.07, avg. ppl 8.38 cum. examples 3840, speed 2950.81 words/sec, time elapsed 811.07 sec\n",
            "epoch 6, iter 2730, avg. loss 54.26, avg. ppl 8.26 cum. examples 4160, speed 3082.80 words/sec, time elapsed 813.74 sec\n",
            "epoch 6, iter 2740, avg. loss 56.41, avg. ppl 8.92 cum. examples 4480, speed 3153.08 words/sec, time elapsed 816.36 sec\n",
            "epoch 6, iter 2750, avg. loss 59.18, avg. ppl 9.28 cum. examples 4800, speed 2729.22 words/sec, time elapsed 819.47 sec\n",
            "epoch 6, iter 2760, avg. loss 54.51, avg. ppl 8.54 cum. examples 5120, speed 3281.75 words/sec, time elapsed 821.95 sec\n",
            "epoch 6, iter 2770, avg. loss 59.09, avg. ppl 8.95 cum. examples 5440, speed 3207.39 words/sec, time elapsed 824.64 sec\n",
            "epoch 6, iter 2780, avg. loss 57.35, avg. ppl 8.47 cum. examples 5760, speed 2730.72 words/sec, time elapsed 827.79 sec\n",
            "epoch 6, iter 2790, avg. loss 56.79, avg. ppl 8.36 cum. examples 6055, speed 2986.26 words/sec, time elapsed 830.43 sec\n",
            "epoch 7, iter 2800, avg. loss 54.04, avg. ppl 7.95 cum. examples 6375, speed 3065.29 words/sec, time elapsed 833.15 sec\n",
            "epoch 7, iter 2800, cum. loss 55.35, cum. ppl 8.51 cum. examples 6375\n",
            "begin validation ...\n",
            "validation: iter 2800, dev. ppl 38.783812\n",
            "hit patience 1\n",
            "hit #5 trial\n",
            "early stop!\n"
          ]
        }
      ],
      "source": [
        "!sh run.sh train"
      ]
    },
    {
      "cell_type": "code",
      "execution_count": null,
      "metadata": {
        "colab": {
          "base_uri": "https://localhost:8080/"
        },
        "id": "NhpktON20_6G",
        "outputId": "52f78ca5-ad6d-462f-a533-a2ff34049cd2"
      },
      "outputs": [
        {
          "name": "stdout",
          "output_type": "stream",
          "text": [
            "[nltk_data] Downloading package punkt to /root/nltk_data...\n",
            "[nltk_data]   Package punkt is already up-to-date!\n",
            "load test source sentences from [./chr_en_data/test.chr]\n",
            "load test target sentences from [./chr_en_data/test.en]\n",
            "load model from model.bin\n",
            "Decoding:   0% 0/1000 [00:00<?, ?it/s]/content/drive/MyDrive/A4/nmt_model.py:442: UserWarning: __floordiv__ is deprecated, and its behavior will change in a future version of pytorch. It currently rounds toward 0 (like the 'trunc' function NOT 'floor'). This results in incorrect rounding for negative values. To keep the current behavior, use torch.div(a, b, rounding_mode='trunc'), or for actual floor division, use torch.div(a, b, rounding_mode='floor').\n",
            "  prev_hyp_ids = top_cand_hyp_pos // len(self.vocab.tgt)\n",
            "Decoding: 100% 1000/1000 [00:44<00:00, 22.29it/s]\n",
            "Corpus BLEU: 12.247177163879098\n"
          ]
        }
      ],
      "source": [
        "!sh run.sh test"
      ]
    }
  ],
  "metadata": {
    "accelerator": "GPU",
    "colab": {
      "collapsed_sections": [
        "9YOb68JPqtJC"
      ],
      "provenance": []
    },
    "gpuClass": "standard",
    "kernelspec": {
      "display_name": "Python 3.10.6 64-bit",
      "language": "python",
      "name": "python3"
    },
    "language_info": {
      "name": "python",
      "version": "3.10.6"
    },
    "vscode": {
      "interpreter": {
        "hash": "b0fa6594d8f4cbf19f97940f81e996739fb7646882a419484c72d19e05852a7e"
      }
    }
  },
  "nbformat": 4,
  "nbformat_minor": 0
}
